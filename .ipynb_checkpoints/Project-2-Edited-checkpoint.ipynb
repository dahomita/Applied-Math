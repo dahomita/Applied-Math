{
 "cells": [
  {
   "cell_type": "markdown",
   "metadata": {},
   "source": [
    "# Project 2\n",
    "\n",
    "This project is taken from section 3.1 in the textbook [1].\n",
    "\n",
    "Suppose you are asked to design the first ascent and drop for a new \n",
    "roller coaster. \n",
    "By studying photographs of your favorite coasters, you decide to make the slope of the ascent 0.8 and the slope of the drop $−1.6$. You decide to connect these two straight stretches $y = L_{1}(x)$ and $y = L_{2}(x)$ with part of a parabola $y = f(x) = ax^2+bx+c$, where $x$ and $f(x)$ are measured in feet. For the track to be smooth there can’t be abrupt changes in direction, so you want the linear segments L1 and L2 to be tangent to the parabola at the transition points $P$ and $Q$. (See the figure.) \n",
    "To simplify the equations, you decide to place the origin at $P$.\n"
   ]
  },
  {
   "cell_type": "markdown",
   "metadata": {},
   "source": [
    "<table><tr><td><img src='f65.png'></td><td><img src='f66.png'></td></tr></table>\"))"
   ]
  },
  {
   "cell_type": "markdown",
   "metadata": {},
   "source": [
    "* Suppose the horizontal distance between $P$ and $Q$ is 100 ft. Write  equations in $a, b,$ and $c$ that will ensure that the track is smooth  at the transition points.\n",
    "\n",
    "* Solve the equations in part (a) for $a,b,$ and $c$ to find a formula for $f(x)$.\n",
    "* Plot $L_{1}$,$f$, and $L_2$ to verify graphically that the transitions are smooth.\n",
    "* Find the difference in elevation between $P$ and $Q$."
   ]
  },
  {
   "cell_type": "markdown",
   "metadata": {},
   "source": [
    "# Solution\n",
    "\n",
    "Let us first differentiate the function $f(x)=ax^2+bx+c$. "
   ]
  },
  {
   "cell_type": "code",
   "execution_count": 13,
   "metadata": {},
   "outputs": [
    {
     "data": {
      "text/latex": [
       "$\\displaystyle a x^{2} + b x + c$"
      ],
      "text/plain": [
       "a*x**2 + b*x + c"
      ]
     },
     "execution_count": 13,
     "metadata": {},
     "output_type": "execute_result"
    }
   ],
   "source": [
    "import sympy as sp\n",
    "from math import *\n",
    "from sympy import *\n",
    "x, a, b, c = symbols('x a b c')\n",
    "f = a*x**2 + b*x + c\n",
    "f"
   ]
  },
  {
   "cell_type": "code",
   "execution_count": 2,
   "metadata": {},
   "outputs": [
    {
     "data": {
      "text/latex": [
       "$\\displaystyle 2 a x + b$"
      ],
      "text/plain": [
       "2*a*x + b"
      ]
     },
     "execution_count": 2,
     "metadata": {},
     "output_type": "execute_result"
    }
   ],
   "source": [
    "f_prime = f.diff(x)\n",
    "f_prime"
   ]
  },
  {
   "cell_type": "markdown",
   "metadata": {},
   "source": [
    "\n",
    "Let us consider a point $(0, 0)$ to be a arbitrary point in the parabola when the slope of the ascent is 0.8 ( we can consider any point to be our starting point in 3-D space). So the drop of -1.6 will be at x = 100. We have, $f(x) = ax^2+bx+c$ \n",
    "* Then,\n",
    "$f(0) = c = 0$."
   ]
  },
  {
   "cell_type": "markdown",
   "metadata": {},
   "source": [
    "\n",
    "* Therefore, we know $f'(x) = 2ax+b$ and $f'(0) = b = 0.8$ ( Note: Slope of the tangent(ascent) line should be same as the slope of the rollar coaster track(parabola) for smoothness).\n",
    "* Similarly, $f'(100) = (200a + b) = (200a + 0.8) = -1.6$, Hence, $a = -0.012$. \n",
    "* And, $f(x) = -0.012x^2+0.8x$\n",
    "* We now have to accurately define our slope function:\n",
    "For ascent of 0.8, we considered $(0,0)$ to be an arbitrary defining point. \n",
    "* This will give $y = L_1(x) = 0.8x+ C$ and $C = 0$.\n",
    "On the other hand, for drop point $x = 100 $\n",
    "so $y = -0.012x^2+0.8x = -0.012\\cdot100^2+0.8\\cdot100 = -40$. \n",
    "* This will give $y = L_2(x) = -1.6x+ K$ and $K = 120$.\n",
    "\n",
    "Finally, we have the defining function of the rollar coaster to be $f(x) = -0.012x^2+0.8x$ and the ascent and drop stretches be $y = L_1(x) = 0.8x$ and $y = L_2(x) = -1.6x+ 120$ respectively.   "
   ]
  },
  {
   "cell_type": "code",
   "execution_count": 14,
   "metadata": {},
   "outputs": [
    {
     "data": {
      "image/png": "[encoded data removed]",
      "text/plain": [
       "<Figure size 432x288 with 1 Axes>"
      ]
     },
     "metadata": {
      "needs_background": "light"
     },
     "output_type": "display_data"
    }
   ],
   "source": [
    "import numpy as np\n",
    "import matplotlib.pyplot as plt\n",
    "\n",
    "x = np.linspace(-200, 200, endpoint = True)\n",
    "f = lambda x: #Enter your code here    # the parabolla\n",
    "g = lambda x: #Enter your code here    # the tangent line\n",
    "h = lambda x: #Enter your code here    # the tangent line\n",
    "P = lambda x: 0*x  \n",
    "Q = lambda x: -40 + 0*x\n",
    "\n",
    "\n",
    "#Plot code, enter your code here\n"
   ]
  },
  {
   "cell_type": "markdown",
   "metadata": {},
   "source": [
    "* The difference in elevation between P and Q = 0 - (-40) = 40 ft."
   ]
  },
  {
   "cell_type": "markdown",
   "metadata": {},
   "source": [
    "The solution in Problem 1 might $look$ $smooth$, but it might not *feel* smooth because the piecewise defined function consisting of $L_{1}(x)$ for $x < 0,\\; f(x)$ for $0 ≤ x ≤ 100$, and $L_2(x)$ for $x > 100$ doesn’t have a continuous second derivative. So you decide to improve the design by using a quadratic function $q(x) = ax^2+bx+c$ only on the interval $10 ≤ x ≤ 90$ and connecting it to the linear functions by means of two cubic functions:\n",
    "\n",
    "$$\n",
    "\\begin{cases}\n",
    "g(x) = kx^3+lx^2+mx+n,\\;\\; \\mbox{for}\\;\\; 0 \\le x < 1 0 \\\\[1ex]\n",
    "h(x) = px^3+qx^2+rx+s, \\;\\; \\mbox{for}\\;\\; 90 < x ≤ 100\n",
    "\\end{cases}\n",
    "$$\n",
    "\n",
    "* Write a system of equations in 11 unknowns that ensure that the functions and their first two derivatives agree at the transition points.\n",
    "* Solve the equations in part (a) with a computer algebra system to find formulas for q(x), g(x), and h(x).\n",
    "* Plot $L_{1}$, g, q, h, and $L_{2}$, and compare with the plot in Problem 1(c)."
   ]
  },
  {
   "cell_type": "code",
   "execution_count": 17,
   "metadata": {},
   "outputs": [],
   "source": [
    "def df(f):\n",
    "    return diff(f,x)"
   ]
  },
  {
   "cell_type": "code",
   "execution_count": 15,
   "metadata": {
    "scrolled": true
   },
   "outputs": [],
   "source": [
    "from pandas import DataFrame\n",
    "import sympy as sp\n",
    "'''\n",
    "Hint: Use the 'symbols' method in sympy like this => a, b, c = symbols('a b c') \n",
    "to define symbols to be used in the differentiation. \n",
    "'''\n",
    "\n",
    "#Input the functions L1(x), g(x), q(x), h(x), and L2(x)\n"
   ]
  },
  {
   "cell_type": "code",
   "execution_count": 18,
   "metadata": {},
   "outputs": [
    {
     "data": {
      "text/latex": [
       "$\\displaystyle 0.8 x$"
      ],
      "text/plain": [
       "0.8*x"
      ]
     },
     "execution_count": 18,
     "metadata": {},
     "output_type": "execute_result"
    }
   ],
   "source": [
    "L1"
   ]
  },
  {
   "cell_type": "code",
   "execution_count": 19,
   "metadata": {},
   "outputs": [
    {
     "data": {
      "text/latex": [
       "$\\displaystyle k x^{3} + l x^{2} + m x + n$"
      ],
      "text/plain": [
       "k*x**3 + l*x**2 + m*x + n"
      ]
     },
     "execution_count": 19,
     "metadata": {},
     "output_type": "execute_result"
    }
   ],
   "source": [
    "g"
   ]
  },
  {
   "cell_type": "code",
   "execution_count": 20,
   "metadata": {},
   "outputs": [
    {
     "data": {
      "text/latex": [
       "$\\displaystyle a x^{2} + b x + c$"
      ],
      "text/plain": [
       "a*x**2 + b*x + c"
      ]
     },
     "execution_count": 20,
     "metadata": {},
     "output_type": "execute_result"
    }
   ],
   "source": [
    "Q"
   ]
  },
  {
   "cell_type": "code",
   "execution_count": 21,
   "metadata": {},
   "outputs": [
    {
     "data": {
      "text/latex": [
       "$\\displaystyle p x^{3} + q x^{2} + r x + s$"
      ],
      "text/plain": [
       "p*x**3 + q*x**2 + r*x + s"
      ]
     },
     "execution_count": 21,
     "metadata": {},
     "output_type": "execute_result"
    }
   ],
   "source": [
    "h"
   ]
  },
  {
   "cell_type": "code",
   "execution_count": 22,
   "metadata": {},
   "outputs": [
    {
     "data": {
      "text/latex": [
       "$\\displaystyle 120 - 1.6 x$"
      ],
      "text/plain": [
       "120 - 1.6*x"
      ]
     },
     "execution_count": 22,
     "metadata": {},
     "output_type": "execute_result"
    }
   ],
   "source": [
    "L2"
   ]
  },
  {
   "cell_type": "code",
   "execution_count": 18,
   "metadata": {},
   "outputs": [
    {
     "data": {
      "text/html": [
       "<div>\n",
       "<style scoped>\n",
       "    .dataframe tbody tr th:only-of-type {\n",
       "        vertical-align: middle;\n",
       "    }\n",
       "\n",
       "    .dataframe tbody tr th {\n",
       "        vertical-align: top;\n",
       "    }\n",
       "\n",
       "    .dataframe thead th {\n",
       "        text-align: right;\n",
       "    }\n",
       "</style>\n",
       "<table border=\"1\" class=\"dataframe\">\n",
       "  <thead>\n",
       "    <tr style=\"text-align: right;\">\n",
       "      <th></th>\n",
       "      <th>$Interval$</th>\n",
       "      <th>$Function$</th>\n",
       "      <th>$First\\;Derivative$</th>\n",
       "      <th>$Second\\; Derivative$</th>\n",
       "    </tr>\n",
       "  </thead>\n",
       "  <tbody>\n",
       "    <tr>\n",
       "      <th>0</th>\n",
       "      <td>$(-\\infty, 0)$</td>\n",
       "      <td>$0.8 x$</td>\n",
       "      <td>$0.8$</td>\n",
       "      <td>$0$</td>\n",
       "    </tr>\n",
       "    <tr>\n",
       "      <th>1</th>\n",
       "      <td>$[0, 10)$</td>\n",
       "      <td>$k x^{3} + l x^{2} + m x + n$</td>\n",
       "      <td>$3 k x^{2} + 2 l x + m$</td>\n",
       "      <td>$6 k x + 2 l$</td>\n",
       "    </tr>\n",
       "    <tr>\n",
       "      <th>2</th>\n",
       "      <td>$[10, 90)$</td>\n",
       "      <td>$a x^{2} + b x + c$</td>\n",
       "      <td>$2 a x + b$</td>\n",
       "      <td>$2 a$</td>\n",
       "    </tr>\n",
       "    <tr>\n",
       "      <th>3</th>\n",
       "      <td>$(90, 100]$</td>\n",
       "      <td>$p x^{3} + q x^{2} + r x + s$</td>\n",
       "      <td>$3 p x^{2} + 2 q x + r$</td>\n",
       "      <td>$6 p x + 2 q$</td>\n",
       "    </tr>\n",
       "    <tr>\n",
       "      <th>4</th>\n",
       "      <td>$(100, \\infty)$</td>\n",
       "      <td>$120 - 1.6 x$</td>\n",
       "      <td>$-1.6$</td>\n",
       "      <td>$0$</td>\n",
       "    </tr>\n",
       "  </tbody>\n",
       "</table>\n",
       "</div>"
      ],
      "text/plain": [
       "        $Interval$                     $Function$      $First\\;Derivative$  \\\n",
       "0   $(-\\infty, 0)$                        $0.8 x$                    $0.8$   \n",
       "1        $[0, 10)$  $k x^{3} + l x^{2} + m x + n$  $3 k x^{2} + 2 l x + m$   \n",
       "2       $[10, 90)$            $a x^{2} + b x + c$              $2 a x + b$   \n",
       "3      $(90, 100]$  $p x^{3} + q x^{2} + r x + s$  $3 p x^{2} + 2 q x + r$   \n",
       "4  $(100, \\infty)$                  $120 - 1.6 x$                   $-1.6$   \n",
       "\n",
       "  $Second\\; Derivative$  \n",
       "0                   $0$  \n",
       "1         $6 k x + 2 l$  \n",
       "2                 $2 a$  \n",
       "3         $6 p x + 2 q$  \n",
       "4                   $0$  "
      ]
     },
     "execution_count": 18,
     "metadata": {},
     "output_type": "execute_result"
    }
   ],
   "source": [
    "from IPython.display import display, Math, Latex\n",
    "import pandas as pd\n",
    "\n",
    "'''\n",
    "Hint: Complete the table dictionary to print a table with the following information: \n",
    "\n",
    "i.    Interval : => input the interval with the bracket for your function inside \"$ $\". \n",
    "                 => use 'inf' to denote infinity and make proper use of '[' and '(' brackets. \n",
    "                 \n",
    "ii.   Function : => write your function inside this -> '${}$'.format(latex(function))\n",
    "                 => Put L1, g, q, h, L2 respectively\n",
    "\n",
    "\n",
    "iii.  First Derivative:  => find the first derivative of the respective function by calling dx(expr),\n",
    "                            where, expr = respective expression to differentiate.\n",
    "\n",
    "\n",
    "iv.   Second Derivative: => find the second derivative of the respective function with the help of dx(expr) method.\n",
    "                         => no additional hint for this implementation will be provided.\n",
    "\n",
    "\n",
    "'''\n",
    "\n",
    "table = {'$Interval$': ['$ $', '$ $', '$ $', '$ $', '$ $'], \n",
    "         '$Function$': [ , , , , ]\n",
    "         '$First Derivative$': [ ,   ,   ,   ,   ],\n",
    "         '$Second\\; Derivative$': [ , , , , ]}\n",
    "\n",
    "DataFrame(table)"
   ]
  },
  {
   "cell_type": "markdown",
   "metadata": {},
   "source": [
    "<table><tr><td><img src='2.png'></td></tr></table>"
   ]
  },
  {
   "cell_type": "markdown",
   "metadata": {},
   "source": [
    "<table><tr><td><img src='3.png'></td></tr></table>"
   ]
  },
  {
   "cell_type": "markdown",
   "metadata": {},
   "source": [
    "Now, we can formulate these in terms of matrix and solve the linear system easily using numpy :)"
   ]
  },
  {
   "cell_type": "markdown",
   "metadata": {},
   "source": [
    "The system of linear equations can be represented in the form of matrix AX = B."
   ]
  },
  {
   "cell_type": "code",
   "execution_count": 138,
   "metadata": {},
   "outputs": [
    {
     "data": {
      "text/latex": [
       "$\\displaystyle \\left[\\begin{array}{cccccccccccc}0 & 0 & 0 & 0 & 0 & 0 & 1 & 0 & 0 & 0 & 0 & 0\\\\0 & 0 & 0 & 0 & 0 & 1 & 0 & 0 & 0 & 0 & 0 & 0.8\\\\0 & 0 & 0 & 0 & 2 & 0 & 0 & 0 & 0 & 0 & 0 & 0\\\\-100 & -10 & -1 & 1000 & 100 & 10 & 1 & 0 & 0 & 0 & 0 & 0\\\\-20 & -1 & 0 & 300 & 20 & 1 & 0 & 0 & 0 & 0 & 0 & 0\\\\-2 & 0 & 0 & 60 & 2 & 0 & 0 & 0 & 0 & 0 & 0 & 0\\\\-8100 & -90 & -1 & 0 & 0 & 0 & 0 & 729000 & 8100 & 90 & 1 & 0\\\\-180 & -1 & 0 & 0 & 0 & 0 & 0 & 24300 & 180 & 1 & 0 & 0\\\\-2 & 0 & 0 & 0 & 0 & 0 & 0 & 540 & 2 & 0 & 0 & 0\\\\0 & 0 & 0 & 0 & 0 & 0 & 0 & 1000000 & 10000 & 100 & 1 & -40\\\\0 & 0 & 0 & 0 & 0 & 0 & 0 & 30000 & 200 & 1 & 0 & -1.6\\end{array}\\right]$"
      ],
      "text/plain": [
       "Matrix([\n",
       "[    0,   0,  0,    0,   0,  0, 1,       0,     0,   0, 0,    0],\n",
       "[    0,   0,  0,    0,   0,  1, 0,       0,     0,   0, 0,  0.8],\n",
       "[    0,   0,  0,    0,   2,  0, 0,       0,     0,   0, 0,    0],\n",
       "[ -100, -10, -1, 1000, 100, 10, 1,       0,     0,   0, 0,    0],\n",
       "[  -20,  -1,  0,  300,  20,  1, 0,       0,     0,   0, 0,    0],\n",
       "[   -2,   0,  0,   60,   2,  0, 0,       0,     0,   0, 0,    0],\n",
       "[-8100, -90, -1,    0,   0,  0, 0,  729000,  8100,  90, 1,    0],\n",
       "[ -180,  -1,  0,    0,   0,  0, 0,   24300,   180,   1, 0,    0],\n",
       "[   -2,   0,  0,    0,   0,  0, 0,     540,     2,   0, 0,    0],\n",
       "[    0,   0,  0,    0,   0,  0, 0, 1000000, 10000, 100, 1,  -40],\n",
       "[    0,   0,  0,    0,   0,  0, 0,   30000,   200,   1, 0, -1.6]])"
      ]
     },
     "execution_count": 138,
     "metadata": {},
     "output_type": "execute_result"
    }
   ],
   "source": [
    "import sympy \n",
    "from sympy import *\n",
    "#Enter matrix \n",
    "A = Matrix([])\n",
    "A"
   ]
  },
  {
   "cell_type": "code",
   "execution_count": 139,
   "metadata": {},
   "outputs": [
    {
     "data": {
      "text/plain": [
       "(Matrix([\n",
       " [1, 0, 0, 0, 0, 0, 0, 0, 0, 0, 0,   -0.0133333333333333],\n",
       " [0, 1, 0, 0, 0, 0, 0, 0, 0, 0, 0,     0.933333333333333],\n",
       " [0, 0, 1, 0, 0, 0, 0, 0, 0, 0, 0,    -0.444444444444444],\n",
       " [0, 0, 0, 1, 0, 0, 0, 0, 0, 0, 0, -0.000444444444444444],\n",
       " [0, 0, 0, 0, 1, 0, 0, 0, 0, 0, 0,                     0],\n",
       " [0, 0, 0, 0, 0, 1, 0, 0, 0, 0, 0,                   0.8],\n",
       " [0, 0, 0, 0, 0, 0, 1, 0, 0, 0, 0,                     0],\n",
       " [0, 0, 0, 0, 0, 0, 0, 1, 0, 0, 0,   0.00044444444444445],\n",
       " [0, 0, 0, 0, 0, 0, 0, 0, 1, 0, 0,    -0.133333333333335],\n",
       " [0, 0, 0, 0, 0, 0, 0, 0, 0, 1, 0,      11.7333333333335],\n",
       " [0, 0, 0, 0, 0, 0, 0, 0, 0, 0, 1,     -324.444444444448]]),\n",
       " (0, 1, 2, 3, 4, 5, 6, 7, 8, 9, 10))"
      ]
     },
     "execution_count": 139,
     "metadata": {},
     "output_type": "execute_result"
    }
   ],
   "source": [
    "A.rref()"
   ]
  },
  {
   "cell_type": "markdown",
   "metadata": {},
   "source": [
    "<table><tr><td><img src='4.png'></td></tr></table>"
   ]
  },
  {
   "cell_type": "code",
   "execution_count": 140,
   "metadata": {},
   "outputs": [
    {
     "data": {
      "text/plain": [
       "array([-1.33333333e-02,  9.33333333e-01, -4.44444444e-01, -4.44444444e-04,\n",
       "       -8.98047069e-17,  8.00000000e-01,  0.00000000e+00,  4.44444444e-04,\n",
       "       -1.33333333e-01,  1.17333333e+01, -3.24444444e+02])"
      ]
     },
     "execution_count": 140,
     "metadata": {},
     "output_type": "execute_result"
    }
   ],
   "source": [
    "# Enter A and b\n",
    "A = np.array([])\n",
    "b = np.array([])\n",
    "\n",
    "#Solve equation Ax=b\n",
    "x = np.linalg.solve(A,b)\n",
    "x\n"
   ]
  },
  {
   "cell_type": "code",
   "execution_count": null,
   "metadata": {},
   "outputs": [],
   "source": []
  }
 ],
 "metadata": {
  "kernelspec": {
   "display_name": "Python 3",
   "language": "python",
   "name": "python3"
  },
  "language_info": {
   "codemirror_mode": {
    "name": "ipython",
    "version": 3
   },
   "file_extension": ".py",
   "mimetype": "text/x-python",
   "name": "python",
   "nbconvert_exporter": "python",
   "pygments_lexer": "ipython3",
   "version": "3.8.3"
  }
 },
 "nbformat": 4,
 "nbformat_minor": 4
}
