{
 "cells": [
  {
   "cell_type": "markdown",
   "metadata": {},
   "source": [
    "# Project 2\n",
    "\n",
    "This project is taken from section 3.1 in the textbook [1].\n",
    "\n",
    "Suppose you are asked to design the first ascent and drop for a new \n",
    "roller coaster. \n",
    "By studying photographs of your favorite coasters, you decide to make the slope of the ascent 0.8 and the slope of the drop $−1.6$. You decide to connect these two straight stretches $y = L_{1}(x)$ and $y = L_{2}(x)$ with part of a parabola $y = f(x) = ax^2+bx+c$, where $x$ and $f(x)$ are measured in feet. For the track to be smooth there can’t be abrupt changes in direction, so you want the linear segments L1 and L2 to be tangent to the parabola at the transition points $P$ and $Q$. (See the figure.) \n",
    "To simplify the equations, you decide to place the origin at $P$.\n"
   ]
  },
  {
   "cell_type": "markdown",
   "metadata": {},
   "source": [
    "<table><tr><td><img src='f65.png'></td><td><img src='f66.png'></td></tr></table>\""
   ]
  },
  {
   "cell_type": "markdown",
   "metadata": {},
   "source": [
    "* Suppose the horizontal distance between $P$ and $Q$ is 100 ft. Write  equations in $a, b,$ and $c$ that will ensure that the track is smooth  at the transition points.\n",
    "\n",
    "* Solve the equations in part (a) for $a,b,$ and $c$ to find a formula for $f(x)$.\n",
    "* Plot $L_{1}$,$f$, and $L_2$ to verify graphically that the transitions are smooth.\n",
    "* Find the difference in elevation between $P$ and $Q$."
   ]
  },
  {
   "cell_type": "markdown",
   "metadata": {},
   "source": [
    "# Solution\n",
    "\n",
    "Let us first differentiate the function $f(x)=ax^2+bx+c$. "
   ]
  },
  {
   "cell_type": "code",
   "execution_count": 86,
   "metadata": {},
   "outputs": [
    {
     "data": {
      "text/latex": [
       "$\\displaystyle a x^{2} + b x + c$"
      ],
      "text/plain": [
       "a*x**2 + b*x + c"
      ]
     },
     "execution_count": 86,
     "metadata": {},
     "output_type": "execute_result"
    }
   ],
   "source": [
    "import sympy as sp\n",
    "from math import *\n",
    "from sympy import *\n",
    "x, a, b, c, C = symbols('x a b c C')\n",
    "f = a*x**2 + b*x + c\n",
    "f"
   ]
  },
  {
   "cell_type": "code",
   "execution_count": 87,
   "metadata": {},
   "outputs": [
    {
     "data": {
      "text/latex": [
       "$\\displaystyle 2 a x + b$"
      ],
      "text/plain": [
       "2*a*x + b"
      ]
     },
     "execution_count": 87,
     "metadata": {},
     "output_type": "execute_result"
    }
   ],
   "source": [
    "f_prime = f.diff(x)\n",
    "f_prime"
   ]
  },
  {
   "cell_type": "markdown",
   "metadata": {},
   "source": [
    "\n",
    "Let us consider a point $(0, 0)$ to be a arbitrary point in the parabola when the slope of the ascent is 0.8 ( we can consider any point to be our starting point in 2-D space). So the drop of $-1.6$ will be at $x = 100$. \n",
    "\n",
    "We have $f(x) = ax^2+bx+c$.\n",
    "\n",
    "* Then,\n",
    "$f(0) = c = 0$.\n",
    "\n",
    "* Therefore, we know $f'(x) = 2ax+b$ and $f'(0) = b = 0.8$ ( Note: Slope of the tangent(ascent) line should be same as the slope of the rollar coaster track(parabola) for smoothness).\n",
    "\n",
    "* Similarly, $f'(100) = (200a + b) = (200a + 0.8) = -1.6$. \n",
    "\n",
    "* Hence, $a = -0.012$ and $f(x) = -0.012x^2+0.8x$.\n",
    "\n",
    "* We now have to accurately define our slope function:\n",
    "For ascent of 0.8, we considered $(0,0)$ to be an arbitrary defining point. \n",
    "\n",
    "* This will give $y = L_1(x) = 0.8x+ C$ and $C = 0$.\n",
    "On the other hand, for drop point $x = 100 $\n",
    "so $y = -0.012x^2+0.8x = -0.012\\cdot100^2+0.8\\cdot100 = -40$. \n",
    "\n",
    "* This will give $y = L_2(x) = -1.6x+ K$ and $K = 120$.\n",
    "\n",
    "* Finally, we have the defining function of the rollar coaster to be $f(x) = -0.012x^2+0.8x$ and the ascent and drop stretches be $y = L_1(x) = 0.8x$ and $y = L_2(x) = -1.6x+ 120$ respectively.   "
   ]
  },
  {
   "cell_type": "markdown",
   "metadata": {},
   "source": [
    "We next input $L_1(x) = 0.8 x$ and $L_2(x) = -1.6x + C$."
   ]
  },
  {
   "cell_type": "code",
   "execution_count": 88,
   "metadata": {},
   "outputs": [
    {
     "data": {
      "text/latex": [
       "$\\displaystyle 0.8 x$"
      ],
      "text/plain": [
       "0.8*x"
      ]
     },
     "execution_count": 88,
     "metadata": {},
     "output_type": "execute_result"
    }
   ],
   "source": [
    "L_1 = 0.8*x\n",
    "L_1"
   ]
  },
  {
   "cell_type": "code",
   "execution_count": 89,
   "metadata": {},
   "outputs": [
    {
     "data": {
      "text/latex": [
       "$\\displaystyle C - 1.6 x$"
      ],
      "text/plain": [
       "C - 1.6*x"
      ]
     },
     "execution_count": 89,
     "metadata": {},
     "output_type": "execute_result"
    }
   ],
   "source": [
    "L_2 = -1.6*x+C\n",
    "L_2"
   ]
  },
  {
   "cell_type": "markdown",
   "metadata": {},
   "source": [
    "We will determine the coefficients $a, b, c$, and $C$. To proceed, we compute $f(0), f'(0), f(100)$ and $f'(100)$."
   ]
  },
  {
   "cell_type": "code",
   "execution_count": 90,
   "metadata": {},
   "outputs": [
    {
     "data": {
      "text/latex": [
       "$\\displaystyle c$"
      ],
      "text/plain": [
       "c"
      ]
     },
     "execution_count": 90,
     "metadata": {},
     "output_type": "execute_result"
    }
   ],
   "source": [
    "# f(0)\n",
    "f1 = f.subs(x,0)\n",
    "f1"
   ]
  },
  {
   "cell_type": "code",
   "execution_count": 91,
   "metadata": {},
   "outputs": [
    {
     "data": {
      "text/latex": [
       "$\\displaystyle b$"
      ],
      "text/plain": [
       "b"
      ]
     },
     "execution_count": 91,
     "metadata": {},
     "output_type": "execute_result"
    }
   ],
   "source": [
    "# f'(0)\n",
    "f2 = f.diff(x).subs(x,0)\n",
    "f2"
   ]
  },
  {
   "cell_type": "code",
   "execution_count": 92,
   "metadata": {},
   "outputs": [
    {
     "data": {
      "text/latex": [
       "$\\displaystyle 10000 a + 100 b + c$"
      ],
      "text/plain": [
       "10000*a + 100*b + c"
      ]
     },
     "execution_count": 92,
     "metadata": {},
     "output_type": "execute_result"
    }
   ],
   "source": [
    "# f(100)\n",
    "# YOUR CODE HERE\n",
    "f3 = f.subs(x,100)\n",
    "f3"
   ]
  },
  {
   "cell_type": "code",
   "execution_count": 93,
   "metadata": {},
   "outputs": [
    {
     "data": {
      "text/latex": [
       "$\\displaystyle 200 a + b$"
      ],
      "text/plain": [
       "200*a + b"
      ]
     },
     "execution_count": 93,
     "metadata": {},
     "output_type": "execute_result"
    }
   ],
   "source": [
    "# f'(100)\n",
    "# YOUR CODE HERE\n",
    "f4 = f.diff(x).subs(x,100)\n",
    "f4"
   ]
  },
  {
   "cell_type": "markdown",
   "metadata": {},
   "source": [
    "Solve the following system of equations\n",
    "$$\n",
    "\\begin{cases}\n",
    "f(0) = L_1(0) = 0\\\\\n",
    "f'(0) = L_1'(0) = 0.8 \\\\\n",
    "f'(100) = L_2'(100) = -1.6 \\\\\n",
    "f(100) = L_2(100) \n",
    "\\end{cases}\n",
    "$$\n"
   ]
  },
  {
   "cell_type": "code",
   "execution_count": 99,
   "metadata": {},
   "outputs": [
    {
     "data": {
      "text/plain": [
       "{a: -0.0120000000000000, b: 0.800000000000000, c: 0.0, C: 120.000000000000}"
      ]
     },
     "execution_count": 99,
     "metadata": {},
     "output_type": "execute_result"
    }
   ],
   "source": [
    "sol1 = solve((f1 - L_1.subs(x,0),\n",
    "            f2 - L_1.diff(x).subs(x,0),\n",
    "            f3 - L_2.subs(x,100),\n",
    "            f4 - L_2.diff(x).subs(x,100)),\n",
    "           a, b, c, C)\n",
    "sol1"
   ]
  },
  {
   "cell_type": "code",
   "execution_count": 100,
   "metadata": {},
   "outputs": [
    {
     "data": {
      "text/latex": [
       "$\\displaystyle -0.012$"
      ],
      "text/plain": [
       "-0.0120000000000000"
      ]
     },
     "execution_count": 100,
     "metadata": {},
     "output_type": "execute_result"
    }
   ],
   "source": [
    "sol1[a]"
   ]
  },
  {
   "cell_type": "code",
   "execution_count": 101,
   "metadata": {},
   "outputs": [
    {
     "data": {
      "text/latex": [
       "$\\displaystyle 0.8$"
      ],
      "text/plain": [
       "0.800000000000000"
      ]
     },
     "execution_count": 101,
     "metadata": {},
     "output_type": "execute_result"
    }
   ],
   "source": [
    "sol1[b]"
   ]
  },
  {
   "cell_type": "code",
   "execution_count": 102,
   "metadata": {},
   "outputs": [
    {
     "data": {
      "text/latex": [
       "$\\displaystyle 0.0$"
      ],
      "text/plain": [
       "0.0"
      ]
     },
     "execution_count": 102,
     "metadata": {},
     "output_type": "execute_result"
    }
   ],
   "source": [
    "sol1[c]"
   ]
  },
  {
   "cell_type": "code",
   "execution_count": 103,
   "metadata": {},
   "outputs": [
    {
     "data": {
      "text/latex": [
       "$\\displaystyle 120.0$"
      ],
      "text/plain": [
       "120.000000000000"
      ]
     },
     "execution_count": 103,
     "metadata": {},
     "output_type": "execute_result"
    }
   ],
   "source": [
    "sol1[C]"
   ]
  },
  {
   "cell_type": "markdown",
   "metadata": {},
   "source": [
    "Now we get ready to construct our roller coaster. "
   ]
  },
  {
   "cell_type": "code",
   "execution_count": 104,
   "metadata": {},
   "outputs": [],
   "source": [
    "def RC1(x):\n",
    "    if x<0:\n",
    "        #YOUR CODE HERE\n",
    "        return 0.8*x\n",
    "    elif 0<= x <100:\n",
    "        return sol1[a]*x**2 + sol1[b]*x \n",
    "    else:\n",
    "        return 120-1.6*x"
   ]
  },
  {
   "cell_type": "markdown",
   "metadata": {},
   "source": [
    "Graph the roller coaster function in the next cell."
   ]
  },
  {
   "cell_type": "code",
   "execution_count": 139,
   "metadata": {},
   "outputs": [
    {
     "data": {
      "image/png": "[encoded data removed]",
      "text/plain": [
       "<Figure size 432x288 with 1 Axes>"
      ]
     },
     "metadata": {
      "needs_background": "light"
     },
     "output_type": "display_data"
    }
   ],
   "source": [
    "x = np.linspace(-20, 120, endpoint = True)\n",
    "VRC1 = np.vectorize(RC1)\n",
    "\n",
    "plt.plot((0,100), (0, -40), 'o')\n",
    "plt.plot(x, VRC1(x), linewidth=4)\n",
    "plt.xlabel('x')\n",
    "plt.ylabel('y')\n",
    "plt.ylim(-80, 40)\n",
    "plt.show()"
   ]
  },
  {
   "cell_type": "markdown",
   "metadata": {},
   "source": [
    "* The difference in elevation between P and Q ia $0 - (-40) = 40$ ft."
   ]
  },
  {
   "cell_type": "markdown",
   "metadata": {},
   "source": [
    "The solution in Problem 1 might $look$ $smooth$, but it might not *feel* smooth because the piecewise defined function consisting of $L_{1}(x)$ for $x < 0,\\; f(x)$ for $0 ≤ x ≤ 100$, and $L_2(x)$ for $x > 100$ doesn’t have a continuous second derivative. So you decide to improve the design by using a quadratic function $q(x) = ax^2+bx+c$ only on the interval $10 ≤ x ≤ 90$ and connecting it to the linear functions by means of two cubic functions:\n",
    "\n",
    "$$\n",
    "\\begin{cases}\n",
    "g(x) = kx^3+lx^2+mx+n,\\;\\; \\mbox{for}\\;\\; 0 \\le x < 1 0 \\\\[1ex]\n",
    "h(x) = px^3+qx^2+rx+s, \\;\\; \\mbox{for}\\;\\; 90 < x ≤ 100\n",
    "\\end{cases}\n",
    "$$\n",
    "\n",
    "* Write a system of equations in 11 unknowns that ensure that the functions and their first two derivatives agree at the transition points.\n",
    "* Solve the equations in part (a) with a computer algebra system to find formulas for q(x), g(x), and h(x).\n",
    "* Plot $L_{1}$, g, q, h, and $L_{2}$, and compare with the plot in Problem 1(c)."
   ]
  },
  {
   "cell_type": "code",
   "execution_count": 127,
   "metadata": {},
   "outputs": [],
   "source": [
    "def df(f):\n",
    "    return diff(f,x)\n",
    "\n",
    "def ddf(f):\n",
    "    return diff(f,x,2)"
   ]
  },
  {
   "cell_type": "code",
   "execution_count": 128,
   "metadata": {
    "scrolled": true
   },
   "outputs": [],
   "source": [
    "from pandas import DataFrame\n",
    "x, k, l, m, n, a, b, c, p, q, r, s = symbols('x k l m n a b c p q r s')\n",
    "\n",
    "#Input the functions L1(x), g(x), q(x), h(x), and L2(x)\n",
    "L1 = 0.8*x\n",
    "g = k*x**3 + l*x**2 + m*x + n\n",
    "Q = a*x**2 + b*x + c\n",
    "h = p*x**3 + q*x**2 + r*x + s\n",
    "L2 = -1.6*x + 120"
   ]
  },
  {
   "cell_type": "code",
   "execution_count": 129,
   "metadata": {},
   "outputs": [
    {
     "data": {
      "text/latex": [
       "$\\displaystyle 0.8 x$"
      ],
      "text/plain": [
       "0.8*x"
      ]
     },
     "execution_count": 129,
     "metadata": {},
     "output_type": "execute_result"
    }
   ],
   "source": [
    "L1"
   ]
  },
  {
   "cell_type": "code",
   "execution_count": 130,
   "metadata": {},
   "outputs": [
    {
     "data": {
      "text/latex": [
       "$\\displaystyle k x^{3} + l x^{2} + m x + n$"
      ],
      "text/plain": [
       "k*x**3 + l*x**2 + m*x + n"
      ]
     },
     "execution_count": 130,
     "metadata": {},
     "output_type": "execute_result"
    }
   ],
   "source": [
    "g"
   ]
  },
  {
   "cell_type": "code",
   "execution_count": 131,
   "metadata": {},
   "outputs": [
    {
     "data": {
      "text/latex": [
       "$\\displaystyle a x^{2} + b x + c$"
      ],
      "text/plain": [
       "a*x**2 + b*x + c"
      ]
     },
     "execution_count": 131,
     "metadata": {},
     "output_type": "execute_result"
    }
   ],
   "source": [
    "Q"
   ]
  },
  {
   "cell_type": "code",
   "execution_count": 132,
   "metadata": {},
   "outputs": [
    {
     "data": {
      "text/latex": [
       "$\\displaystyle p x^{3} + q x^{2} + r x + s$"
      ],
      "text/plain": [
       "p*x**3 + q*x**2 + r*x + s"
      ]
     },
     "execution_count": 132,
     "metadata": {},
     "output_type": "execute_result"
    }
   ],
   "source": [
    "h"
   ]
  },
  {
   "cell_type": "code",
   "execution_count": 133,
   "metadata": {},
   "outputs": [
    {
     "data": {
      "text/latex": [
       "$\\displaystyle 120 - 1.6 x$"
      ],
      "text/plain": [
       "120 - 1.6*x"
      ]
     },
     "execution_count": 133,
     "metadata": {},
     "output_type": "execute_result"
    }
   ],
   "source": [
    "L2"
   ]
  },
  {
   "cell_type": "markdown",
   "metadata": {},
   "source": [
    "For convenience, we can make a table of values in the next cell. "
   ]
  },
  {
   "cell_type": "code",
   "execution_count": 134,
   "metadata": {},
   "outputs": [
    {
     "data": {
      "text/html": [
       "<div>\n",
       "<style scoped>\n",
       "    .dataframe tbody tr th:only-of-type {\n",
       "        vertical-align: middle;\n",
       "    }\n",
       "\n",
       "    .dataframe tbody tr th {\n",
       "        vertical-align: top;\n",
       "    }\n",
       "\n",
       "    .dataframe thead th {\n",
       "        text-align: right;\n",
       "    }\n",
       "</style>\n",
       "<table border=\"1\" class=\"dataframe\">\n",
       "  <thead>\n",
       "    <tr style=\"text-align: right;\">\n",
       "      <th></th>\n",
       "      <th>$Interval$</th>\n",
       "      <th>$Function$</th>\n",
       "      <th>$First\\;Derivative$</th>\n",
       "      <th>$Second\\; Derivative$</th>\n",
       "    </tr>\n",
       "  </thead>\n",
       "  <tbody>\n",
       "    <tr>\n",
       "      <th>0</th>\n",
       "      <td>$(-\\infty, 0)$</td>\n",
       "      <td>$0.8 x$</td>\n",
       "      <td>$0.8$</td>\n",
       "      <td>$0$</td>\n",
       "    </tr>\n",
       "    <tr>\n",
       "      <th>1</th>\n",
       "      <td>$[0, 10)$</td>\n",
       "      <td>$k x^{3} + l x^{2} + m x + n$</td>\n",
       "      <td>$3 k x^{2} + 2 l x + m$</td>\n",
       "      <td>$2 \\left(3 k x + l\\right)$</td>\n",
       "    </tr>\n",
       "    <tr>\n",
       "      <th>2</th>\n",
       "      <td>$[10, 90)$</td>\n",
       "      <td>$a x^{2} + b x + c$</td>\n",
       "      <td>$2 a x + b$</td>\n",
       "      <td>$2 a$</td>\n",
       "    </tr>\n",
       "    <tr>\n",
       "      <th>3</th>\n",
       "      <td>$(90, 100]$</td>\n",
       "      <td>$p x^{3} + q x^{2} + r x + s$</td>\n",
       "      <td>$3 p x^{2} + 2 q x + r$</td>\n",
       "      <td>$2 \\left(3 p x + q\\right)$</td>\n",
       "    </tr>\n",
       "    <tr>\n",
       "      <th>4</th>\n",
       "      <td>$(100, \\infty)$</td>\n",
       "      <td>$120 - 1.6 x$</td>\n",
       "      <td>$-1.6$</td>\n",
       "      <td>$0$</td>\n",
       "    </tr>\n",
       "  </tbody>\n",
       "</table>\n",
       "</div>"
      ],
      "text/plain": [
       "        $Interval$                     $Function$      $First\\;Derivative$  \\\n",
       "0   $(-\\infty, 0)$                        $0.8 x$                    $0.8$   \n",
       "1        $[0, 10)$  $k x^{3} + l x^{2} + m x + n$  $3 k x^{2} + 2 l x + m$   \n",
       "2       $[10, 90)$            $a x^{2} + b x + c$              $2 a x + b$   \n",
       "3      $(90, 100]$  $p x^{3} + q x^{2} + r x + s$  $3 p x^{2} + 2 q x + r$   \n",
       "4  $(100, \\infty)$                  $120 - 1.6 x$                   $-1.6$   \n",
       "\n",
       "        $Second\\; Derivative$  \n",
       "0                         $0$  \n",
       "1  $2 \\left(3 k x + l\\right)$  \n",
       "2                       $2 a$  \n",
       "3  $2 \\left(3 p x + q\\right)$  \n",
       "4                         $0$  "
      ]
     },
     "execution_count": 134,
     "metadata": {},
     "output_type": "execute_result"
    }
   ],
   "source": [
    "from IPython.display import display, Math, Latex\n",
    "import pandas as pd\n",
    "\n",
    "table = {'$Interval$': ['$(-\\infty, 0)$', '$[0, 10)$', '$[10, 90)$', '$(90, 100]$', '$(100, \\infty)$'], \n",
    "         '$Function$': ['${}$'.format(latex(L1)), '${}$'.format(latex(g)), '${}$'.format(latex(Q)), \n",
    "                      '${}$'.format(latex(h)), '${}$'.format(latex(L2))],\n",
    "         '$First\\;Derivative$': ['${}$'.format(latex(df(L1))), '${}$'.format(latex(df(g))), \n",
    "                                 '${}$'.format(latex(df(Q))), '${}$'.format(latex(df(h))), \n",
    "                                 '${}$'.format(latex(df(L2)))],\n",
    "         '$Second\\; Derivative$': ['${}$'.format(latex(ddf(L1))), '${}$'.format(latex(ddf(g))), \n",
    "                                   '${}$'.format(latex(ddf(Q))), '${}$'.format(latex(ddf(h))), \n",
    "                                   '${}$'.format(latex(ddf(L2)))]}\n",
    "DataFrame(table)"
   ]
  },
  {
   "cell_type": "markdown",
   "metadata": {},
   "source": [
    "<table><tr><td><img src='2.png'></td></tr></table>"
   ]
  },
  {
   "cell_type": "markdown",
   "metadata": {},
   "source": [
    "We can solve this system of equations in the next cell."
   ]
  },
  {
   "cell_type": "code",
   "execution_count": 135,
   "metadata": {},
   "outputs": [],
   "source": [
    "# YOUR CODE HERE\n",
    "e1 = g.subs(x,0)-L1.subs(x,0)\n",
    "e2 = df(g).subs(x,0)-df(L1).subs(x,0)\n",
    "e3 = ddf(g).subs(x,0)-ddf(L1).subs(x,0)\n",
    "\n",
    "e4 = g.subs(x,10)-Q.subs(x,10)\n",
    "e5 = df(g).subs(x,10)-df(Q).subs(x,10)\n",
    "e6 = ddf(g).subs(x,10)-ddf(Q).subs(x,10)\n",
    "\n",
    "e7 = h.subs(x,90)-Q.subs(x,90)\n",
    "e8 = df(h).subs(x,90)-df(Q).subs(x,90)\n",
    "e9 = ddf(h).subs(x,90)-ddf(Q).subs(x,90)\n",
    "\n",
    "e10 = h.subs(x,100)-L2.subs(x,100)\n",
    "e11 = df(h).subs(x,100)-df(L2).subs(x,100)\n",
    "e12 = ddf(h).subs(x,100)-ddf(L2).subs(x,100)\n"
   ]
  },
  {
   "cell_type": "code",
   "execution_count": 136,
   "metadata": {},
   "outputs": [
    {
     "data": {
      "text/plain": [
       "{s: -324.444444444444,\n",
       " r: 11.7333333333333,\n",
       " q: -0.133333333333333,\n",
       " p: 0.000444444444444444,\n",
       " a: -0.0133333333333333,\n",
       " b: 0.933333333333333,\n",
       " c: -0.444444444444444,\n",
       " k: -0.000444444444444444,\n",
       " l: 0.0,\n",
       " m: 0.800000000000000,\n",
       " n: 0.0}"
      ]
     },
     "execution_count": 136,
     "metadata": {},
     "output_type": "execute_result"
    }
   ],
   "source": [
    "sol2 = solve((e1,e2,e3,e4,e5,e6,e7,e8,e9,e10,e11,e12),\n",
    "           a,b,c,k,l,m,n,p,q,r,s)\n",
    "sol2"
   ]
  },
  {
   "cell_type": "markdown",
   "metadata": {},
   "source": [
    "<table><tr><td><img src='3.png'></td></tr></table>"
   ]
  },
  {
   "cell_type": "markdown",
   "metadata": {},
   "source": [
    "Alternative way:: We can solve the above systme of equations in the maxtrix form: $Ax=b$."
   ]
  },
  {
   "cell_type": "code",
   "execution_count": 118,
   "metadata": {},
   "outputs": [
    {
     "data": {
      "text/latex": [
       "$\\displaystyle \\left[\\begin{array}{cccccccccccc}0 & 0 & 0 & 0 & 0 & 0 & 1 & 0 & 0 & 0 & 0 & 0\\\\0 & 0 & 0 & 0 & 0 & 1 & 0 & 0 & 0 & 0 & 0 & 0.8\\\\0 & 0 & 0 & 0 & 2 & 0 & 0 & 0 & 0 & 0 & 0 & 0\\\\-100 & -10 & -1 & 1000 & 100 & 10 & 1 & 0 & 0 & 0 & 0 & 0\\\\-20 & -1 & 0 & 300 & 20 & 1 & 0 & 0 & 0 & 0 & 0 & 0\\\\-2 & 0 & 0 & 60 & 2 & 0 & 0 & 0 & 0 & 0 & 0 & 0\\\\-8100 & -90 & -1 & 0 & 0 & 0 & 0 & 729000 & 8100 & 90 & 1 & 0\\\\-180 & -1 & 0 & 0 & 0 & 0 & 0 & 24300 & 180 & 1 & 0 & 0\\\\-2 & 0 & 0 & 0 & 0 & 0 & 0 & 540 & 2 & 0 & 0 & 0\\\\0 & 0 & 0 & 0 & 0 & 0 & 0 & 1000000 & 10000 & 100 & 1 & -40\\\\0 & 0 & 0 & 0 & 0 & 0 & 0 & 30000 & 200 & 1 & 0 & -1.6\\end{array}\\right]$"
      ],
      "text/plain": [
       "Matrix([\n",
       "[    0,   0,  0,    0,   0,  0, 1,       0,     0,   0, 0,    0],\n",
       "[    0,   0,  0,    0,   0,  1, 0,       0,     0,   0, 0,  0.8],\n",
       "[    0,   0,  0,    0,   2,  0, 0,       0,     0,   0, 0,    0],\n",
       "[ -100, -10, -1, 1000, 100, 10, 1,       0,     0,   0, 0,    0],\n",
       "[  -20,  -1,  0,  300,  20,  1, 0,       0,     0,   0, 0,    0],\n",
       "[   -2,   0,  0,   60,   2,  0, 0,       0,     0,   0, 0,    0],\n",
       "[-8100, -90, -1,    0,   0,  0, 0,  729000,  8100,  90, 1,    0],\n",
       "[ -180,  -1,  0,    0,   0,  0, 0,   24300,   180,   1, 0,    0],\n",
       "[   -2,   0,  0,    0,   0,  0, 0,     540,     2,   0, 0,    0],\n",
       "[    0,   0,  0,    0,   0,  0, 0, 1000000, 10000, 100, 1,  -40],\n",
       "[    0,   0,  0,    0,   0,  0, 0,   30000,   200,   1, 0, -1.6]])"
      ]
     },
     "execution_count": 118,
     "metadata": {},
     "output_type": "execute_result"
    }
   ],
   "source": [
    "import sympy \n",
    "from sympy import *\n",
    "\n",
    "# YOUR CODE HERE\n",
    "A = Matrix([[0, 0, 0, 0, 0, 0, 1, 0, 0, 0, 0, 0],\n",
    "            [0, 0, 0, 0, 0, 1, 0, 0, 0, 0, 0, 0.8],\n",
    "            [0, 0, 0, 0, 2, 0, 0, 0, 0, 0, 0, 0],\n",
    "            [-100, -10, -1, 1000, 100, 10, 1, 0, 0, 0, 0, 0],\n",
    "            [-20, -1, 0, 300, 20, 1, 0, 0, 0, 0, 0, 0],\n",
    "            [-2, 0, 0, 60, 2, 0, 0, 0, 0, 0, 0, 0],\n",
    "            [-8100, -90, -1, 0, 0, 0, 0, 729000, 8100, 90, 1, 0],\n",
    "            [-180, -1, 0, 0, 0, 0, 0, 24300, 180, 1, 0, 0],\n",
    "            [-2, 0, 0, 0, 0, 0, 0, 540, 2, 0, 0, 0],\n",
    "            [0, 0, 0, 0, 0, 0, 0, 1000000, 10000, 100, 1, -40],\n",
    "            [0, 0, 0, 0, 0, 0, 0, 30000, 200, 1, 0, -1.6]]) \n",
    "A"
   ]
  },
  {
   "cell_type": "markdown",
   "metadata": {},
   "source": [
    "By reducing A to an RREF (reduced row Echelon Form), we can find the solution of the system. "
   ]
  },
  {
   "cell_type": "code",
   "execution_count": 119,
   "metadata": {},
   "outputs": [
    {
     "data": {
      "text/plain": [
       "(Matrix([\n",
       " [1, 0, 0, 0, 0, 0, 0, 0, 0, 0, 0,   -0.0133333333333333],\n",
       " [0, 1, 0, 0, 0, 0, 0, 0, 0, 0, 0,     0.933333333333333],\n",
       " [0, 0, 1, 0, 0, 0, 0, 0, 0, 0, 0,    -0.444444444444444],\n",
       " [0, 0, 0, 1, 0, 0, 0, 0, 0, 0, 0, -0.000444444444444444],\n",
       " [0, 0, 0, 0, 1, 0, 0, 0, 0, 0, 0,                     0],\n",
       " [0, 0, 0, 0, 0, 1, 0, 0, 0, 0, 0,                   0.8],\n",
       " [0, 0, 0, 0, 0, 0, 1, 0, 0, 0, 0,                     0],\n",
       " [0, 0, 0, 0, 0, 0, 0, 1, 0, 0, 0,   0.00044444444444445],\n",
       " [0, 0, 0, 0, 0, 0, 0, 0, 1, 0, 0,    -0.133333333333335],\n",
       " [0, 0, 0, 0, 0, 0, 0, 0, 0, 1, 0,      11.7333333333335],\n",
       " [0, 0, 0, 0, 0, 0, 0, 0, 0, 0, 1,     -324.444444444448]]),\n",
       " (0, 1, 2, 3, 4, 5, 6, 7, 8, 9, 10))"
      ]
     },
     "execution_count": 119,
     "metadata": {},
     "output_type": "execute_result"
    }
   ],
   "source": [
    "A.rref()"
   ]
  },
  {
   "cell_type": "markdown",
   "metadata": {},
   "source": [
    "<table><tr><td><img src='4.png'></td></tr></table>"
   ]
  },
  {
   "cell_type": "markdown",
   "metadata": {},
   "source": [
    "We get ready to improve our roller coaster."
   ]
  },
  {
   "cell_type": "code",
   "execution_count": 137,
   "metadata": {},
   "outputs": [],
   "source": [
    "def RC2(x):\n",
    "    if x<0:\n",
    "        return sol2[m]*x\n",
    "    elif 0<= x <10:\n",
    "        return sol2[k]*x**3 + sol2[l]*x**2 + sol2[m]*x + sol2[n]\n",
    "    elif 10<= x <90:\n",
    "        return sol2[a]*x**2 + sol2[b]*x + sol2[c]\n",
    "    elif 90<= x <100:\n",
    "        return sol2[p]*x**3 + sol2[q]*x**2 + sol2[r]*x + sol2[s]\n",
    "    else:\n",
    "        return 120-1.6*x\n",
    "        "
   ]
  },
  {
   "cell_type": "code",
   "execution_count": 138,
   "metadata": {},
   "outputs": [
    {
     "data": {
      "image/png": "[encoded data removed]",
      "text/plain": [
       "<Figure size 432x288 with 1 Axes>"
      ]
     },
     "metadata": {
      "needs_background": "light"
     },
     "output_type": "display_data"
    }
   ],
   "source": [
    "x = np.linspace(-20, 120, endpoint = True)\n",
    "VRC2 = np.vectorize(RC2)\n",
    "\n",
    "plt.plot((0,100), (0, -40), 'o')\n",
    "plt.plot(x, VRC2(x))\n",
    "plt.xlabel('x')\n",
    "plt.ylabel('y')\n",
    "plt.ylim(-80, 40)\n",
    "plt.show()"
   ]
  },
  {
   "cell_type": "markdown",
   "metadata": {},
   "source": [
    "We can either solve the system by using linalg.solve from numpy."
   ]
  },
  {
   "cell_type": "code",
   "execution_count": null,
   "metadata": {},
   "outputs": [],
   "source": [
    "A = np.array([[-20, -1, 0, 300, 20, 1, 0, 0, 0, 0, 0],\n",
    "              [-100, -10, -1, 1000, 100, 10, 1, 0, 0, 0, 0],\n",
    "              [-8100, -90, -1, 0, 0, 0, 0, 729000, 8100, 90, 1],\n",
    "              [-2, 0, 0, 60, 2, 0, 0, 0, 0, 0, 0],\n",
    "              [0, 0, 0, 0, 2, 0, 0, 0, 0, 0, 0],\n",
    "              [0, 0, 0, 0, 0, 1, 0, 0, 0, 0, 0],\n",
    "              [0, 0, 0, 0, 0, 0, 1, 0, 0, 0, 0],\n",
    "              [-180, -1, 0, 0, 0, 0, 0, 24300, 180, 1, 0],\n",
    "              [-2, 0, 0, 0, 0, 0, 0, 540, 2, 0, 0],\n",
    "              [0, 0, 0, 0, 0, 0, 0, 30000, 200, 1, 0],\n",
    "              [0, 0, 0, 0, 0, 0, 0, 1000000, 10000, 100, 1]\n",
    "             ])\n",
    "b = np.array([0, 0, 0, 0, 0, 0.8, 0, 0, 0, -1.6, -40])\n",
    "x = np.linalg.solve(A,b)\n",
    "x\n"
   ]
  }
 ],
 "metadata": {
  "kernelspec": {
   "display_name": "Python 3",
   "language": "python",
   "name": "python3"
  },
  "language_info": {
   "codemirror_mode": {
    "name": "ipython",
    "version": 3
   },
   "file_extension": ".py",
   "mimetype": "text/x-python",
   "name": "python",
   "nbconvert_exporter": "python",
   "pygments_lexer": "ipython3",
   "version": "3.8.3"
  }
 },
 "nbformat": 4,
 "nbformat_minor": 4
}
