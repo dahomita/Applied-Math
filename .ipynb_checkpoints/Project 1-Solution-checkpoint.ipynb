{
 "cells": [
  {
   "cell_type": "markdown",
   "metadata": {},
   "source": [
    "# Project 1\n",
    "\n",
    "Suppose you are serving in the customer service of some cell phone company and want to advertise the above cell phone plan to customers. \n",
    "This is a kind of boring job since you have to repeat the necessary information over and over. However, your schedule is very tight so you want to make a chatbot to do that job for you. You can make it by writing a selling program in Python as follows. \n",
    "\n",
    "* Write the function **C(x)** to compute the cost $C(x)$\n",
    "* Write the function **solveLin(a,b)** to solve a linear equation. \n",
    "* Write the function **welcome()** to print out a welcome message. \n",
    "* Write the function **service()** to ask the customer's name and his/her option. \n",
    "* Write the function **option1()** to compute the amount of money that the customer has to pay with the given number of data used per month. \n",
    "* Write the function **option2()** to estimate the number of the data used per month with the given deposite. \n",
    "* Write the function **restart()** to ask the customer if he/she wants to remake his/her option. "
   ]
  },
  {
   "cell_type": "code",
   "execution_count": 1,
   "metadata": {},
   "outputs": [],
   "source": [
    "def C(x):\n",
    "    if x <= 2:\n",
    "        cost = 39\n",
    "    else:\n",
    "        cost = 15*x + 9\n",
    "    return cost\n"
   ]
  },
  {
   "cell_type": "code",
   "execution_count": 2,
   "metadata": {},
   "outputs": [
    {
     "data": {
      "text/plain": [
       "54"
      ]
     },
     "execution_count": 2,
     "metadata": {},
     "output_type": "execute_result"
    }
   ],
   "source": [
    "C(3)"
   ]
  },
  {
   "cell_type": "markdown",
   "metadata": {},
   "source": [
    "Write a function to solve a linear equation"
   ]
  },
  {
   "cell_type": "code",
   "execution_count": 3,
   "metadata": {},
   "outputs": [],
   "source": [
    "def solveLin(a,b): # solve a linear equation ax+b=0\n",
    "    if a == 0:\n",
    "        if b != 0:\n",
    "            print('The equation ' + str(a) + 'x + ' + str(b) + ' = 0 has no solution.') \n",
    "        else:\n",
    "            print('The equation ' + str(a) + 'x + ' + str(b) + ' = 0 has infinitely many solutions.')    \n",
    "    else:\n",
    "        return -b/a\n",
    "                  \n"
   ]
  },
  {
   "cell_type": "code",
   "execution_count": 4,
   "metadata": {},
   "outputs": [
    {
     "data": {
      "text/plain": [
       "-1.0"
      ]
     },
     "execution_count": 4,
     "metadata": {},
     "output_type": "execute_result"
    }
   ],
   "source": [
    "z = solveLin(1,1)\n",
    "z"
   ]
  },
  {
   "cell_type": "code",
   "execution_count": 5,
   "metadata": {},
   "outputs": [
    {
     "name": "stdout",
     "output_type": "stream",
     "text": [
      "Welcome to our shop! \n",
      "Our cell phone plan costs $39 a month.\n",
      "The plan includes 2 gigabytes (GB) of free data\n",
      "and charges $15 per GB for any additional data used.\n",
      "Please enter your name: Tan\n",
      "Hello Tan. Nice to meet you.\n",
      "If you would like to pay after, please select option 1.\n",
      "If you would like to pay before, please select option 2.\n",
      "Please select your option 1 or 2: \n",
      "1\n",
      "How many gigabytes do you want to use per month? \n",
      "9\n",
      "Thank you, if you use 9.0 GB, you will pay 144.0 dollars per month.\n",
      "If you would like to restart the program, please enter 3. \n",
      "Otherwise, please enter #: \n",
      "3\n",
      "Please enter your name: Kyle \n",
      "Hello Kyle . Nice to meet you.\n",
      "If you would like to pay after, please select option 1.\n",
      "If you would like to pay before, please select option 2.\n",
      "Please select your option 1 or 2: \n",
      "2\n",
      "How much do you want to spend to purchase the data usage per month? \n",
      "50\n",
      "Thank you, if you spend 50.0 dollars, you can use 2.7333333333333334 GB per month.\n",
      "If you would like to restart the program, please enter 3. \n",
      "Otherwise, please enter #: \n",
      "0\n",
      "You entered an invalid information. Please do it again.\n",
      "If you would like to restart the program, please enter 3. \n",
      "Otherwise, please enter #: \n",
      "3\n",
      "Please enter your name: Ky\n",
      "Hello Ky. Nice to meet you.\n",
      "If you would like to pay after, please select option 1.\n",
      "If you would like to pay before, please select option 2.\n",
      "Please select your option 1 or 2: \n",
      "0\n",
      "Sorry, you entered an invalid input. Please do it again.\n",
      "Please select your option 1 or 2: \n",
      "1\n",
      "How many gigabytes do you want to use per month? \n",
      "16\n",
      "Thank you, if you use 16.0 GB, you will pay 249.0 dollars per month.\n",
      "If you would like to restart the program, please enter 3. \n",
      "Otherwise, please enter #: \n",
      "no\n",
      "You entered an invalid information. Please do it again.\n",
      "If you would like to restart the program, please enter 3. \n",
      "Otherwise, please enter #: \n",
      "#\n",
      "Thank you for visiting us today, have a nice day!\n"
     ]
    }
   ],
   "source": [
    "import time\n",
    "\n",
    "def welcome():\n",
    "    prt('Welcome to our shop! ')\n",
    "    prt('Recently, we can offer you a cell phone plan that costs $39 a month.') \n",
    "    prt('The plan includes 2 gigabytes (GB) of free data') \n",
    "    prt('and charges $15 per GB for any additional data used.')\n",
    "\n",
    "def service():\n",
    "    name = input('Please enter your name: ')\n",
    "    prt('Hello ' + name + '. Nice to meet you.') \n",
    "    prt('If you would like to pay after, please select option 1.')\n",
    "    prt('If you would like to pay before, please select option 2.')\n",
    "    option()\n",
    "    restart()\n",
    "    \n",
    "def option():    \n",
    "    choice = input('Please select your option 1 or 2: \\n')\n",
    "    time.sleep(2)\n",
    "    if '1' in choice:\n",
    "        option1()\n",
    "    elif '2' in choice: \n",
    "        option2()\n",
    "    else:\n",
    "        prt('Sorry, you entered an invalid input. Please do it again.')\n",
    "        option()\n",
    "                  \n",
    "def option1():          \n",
    "    x = float(input('How many gigabytes do you want to use per month? \\n'))\n",
    "    prt('Thank you, if you use ' + str(x) + ' GB, you will pay ' \\\n",
    "          + str(C(x)) + ' dollars per month.')\n",
    "\n",
    "def option2():\n",
    "    C = float(input('How much do you want to spend to purchase the data usage per month? \\n'))\n",
    "    if C < 39: \n",
    "        prt('Sorry, the minimum deposite is 39.')\n",
    "        option2()\n",
    "    elif C >= 39:\n",
    "        x = solveLin(15, 9-C)\n",
    "        prt('Thank you, if you spend ' + str(C) + ' dollars, you can use ' \\\n",
    "             + str(x) + ' GB per month.')\n",
    "\n",
    "def restart():\n",
    "    response = input('If you would like to restart the program, please enter 3. \\nOtherwise, please enter #: \\n')\n",
    "    if '3' in response:\n",
    "        service()\n",
    "    elif '#' in response:\n",
    "        prt('Thank you for visiting us today, have a nice day!')\n",
    "    else:\n",
    "        prt('You entered an invalid information. Please do it again.')\n",
    "        restart()\n",
    "\n",
    "def prt(string):\n",
    "    print(string)\n",
    "    time.sleep(2)\n",
    "    \n",
    "welcome()\n",
    "service()\n",
    "    \n",
    "    "
   ]
  },
  {
   "cell_type": "code",
   "execution_count": null,
   "metadata": {},
   "outputs": [],
   "source": []
  }
 ],
 "metadata": {
  "kernelspec": {
   "display_name": "Python 3",
   "language": "python",
   "name": "python3"
  },
  "language_info": {
   "codemirror_mode": {
    "name": "ipython",
    "version": 3
   },
   "file_extension": ".py",
   "mimetype": "text/x-python",
   "name": "python",
   "nbconvert_exporter": "python",
   "pygments_lexer": "ipython3",
   "version": "3.7.4"
  }
 },
 "nbformat": 4,
 "nbformat_minor": 4
}
