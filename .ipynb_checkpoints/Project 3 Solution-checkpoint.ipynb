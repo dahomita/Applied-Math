{
 "cells": [
  {
   "cell_type": "markdown",
   "metadata": {},
   "source": [
    "# Project 3 solution \n",
    "\n",
    "This project is taken from section 3.10 in the textbook [1].\n",
    "\n",
    "\n",
    "The tangent line approximation $L(x)$ is the best first-degree (linear) approximation to $f(x)$ near $x =a$ because $f(x)$ and $L(x)$ have the same rate of change (derivative) at $a$. For a better approximation than a linear one, let's try a second-degree (quadratic) approximation $P(x)$. In other words, we approximate a curve by a parabola instead of by a straight line. To make sure that the approximation is a good one, we stipulate the following:\n"
   ]
  },
  {
   "cell_type": "markdown",
   "metadata": {},
   "source": [
    "* $P(a) = f(a)$ ($P$ and $f$ should have the same value at $a$.)\n",
    "* $P'(a) = f'(a)$ ($P$ and $f$ should have the same rate of change at $a$.)\n",
    "* $P''(a) = f''(a)$ (The slope of $P$ and $f$ should change at the same rate at $a$.)"
   ]
  },
  {
   "cell_type": "markdown",
   "metadata": {},
   "source": [
    "We will use the **sympy** library to differentiate a symbolic expression. Let us start with the following code to differentiate $f(x) = \\cos x$. "
   ]
  },
  {
   "cell_type": "code",
   "execution_count": 1,
   "metadata": {},
   "outputs": [
    {
     "data": {
      "text/latex": [
       "$\\displaystyle - \\sin{\\left(x \\right)}$"
      ],
      "text/plain": [
       "-sin(x)"
      ]
     },
     "execution_count": 1,
     "metadata": {},
     "output_type": "execute_result"
    }
   ],
   "source": [
    "from sympy import *\n",
    "x, a, A, B, C = symbols('x a A B C')\n",
    "\n",
    "# Enter f as a symbolic expression\n",
    "f = cos(x)\n",
    "fprime = f.diff(x)\n",
    "fprime"
   ]
  },
  {
   "cell_type": "markdown",
   "metadata": {},
   "source": [
    "We next try to compute the second derivative of $f$."
   ]
  },
  {
   "cell_type": "code",
   "execution_count": 2,
   "metadata": {},
   "outputs": [
    {
     "data": {
      "text/latex": [
       "$\\displaystyle - \\cos{\\left(x \\right)}$"
      ],
      "text/plain": [
       "-cos(x)"
      ]
     },
     "execution_count": 2,
     "metadata": {},
     "output_type": "execute_result"
    }
   ],
   "source": [
    "fdprime = fprime.diff(x)\n",
    "fdprime"
   ]
  },
  {
   "cell_type": "code",
   "execution_count": 3,
   "metadata": {},
   "outputs": [
    {
     "data": {
      "text/latex": [
       "$\\displaystyle - \\cos{\\left(x \\right)}$"
      ],
      "text/plain": [
       "-cos(x)"
      ]
     },
     "execution_count": 3,
     "metadata": {},
     "output_type": "execute_result"
    }
   ],
   "source": [
    "g = f.diff(x,2)\n",
    "g"
   ]
  },
  {
   "cell_type": "markdown",
   "metadata": {},
   "source": [
    "YOUR TURN: Compute $(\\sin x)''$."
   ]
  },
  {
   "cell_type": "code",
   "execution_count": 4,
   "metadata": {},
   "outputs": [],
   "source": [
    "# YOUR CODE HERE"
   ]
  },
  {
   "cell_type": "markdown",
   "metadata": {},
   "source": [
    "We will write a code to compute the $n$th-derivative of a given function. "
   ]
  },
  {
   "cell_type": "code",
   "execution_count": 5,
   "metadata": {},
   "outputs": [],
   "source": [
    "def Nth_der(f, variable, N):\n",
    "    f_0 = f\n",
    "    for k in range(N):\n",
    "        # YOUR CODE HERE\n",
    "        f_prime = diff(f_0,variable)\n",
    "        f_0 = f_prime\n",
    "    return f_0"
   ]
  },
  {
   "cell_type": "markdown",
   "metadata": {},
   "source": [
    "We will write a code to compute a Taylor polynomial in the next cell. "
   ]
  },
  {
   "cell_type": "code",
   "execution_count": 6,
   "metadata": {},
   "outputs": [],
   "source": [
    "from math import factorial \n",
    "\n",
    "def Taylor(f, variable, a, N):\n",
    "    sum = f.subs(variable,a)\n",
    "    # YOUR CODE HERE\n",
    "    for n in range(1,N+1):\n",
    "        f_nprime = Nth_der(f, variable, n)\n",
    "        sum += f_nprime.subs(variable, a)/(factorial(int(n)))*(x-a)**n\n",
    "    return sum\n",
    "        "
   ]
  },
  {
   "cell_type": "code",
   "execution_count": 7,
   "metadata": {},
   "outputs": [
    {
     "data": {
      "text/latex": [
       "$\\displaystyle \\cos{\\left(x \\right)}$"
      ],
      "text/plain": [
       "cos(x)"
      ]
     },
     "execution_count": 7,
     "metadata": {},
     "output_type": "execute_result"
    }
   ],
   "source": [
    " f = cos(x)\n",
    " f"
   ]
  },
  {
   "cell_type": "code",
   "execution_count": 8,
   "metadata": {},
   "outputs": [
    {
     "data": {
      "text/latex": [
       "$\\displaystyle - \\cos{\\left(x \\right)}$"
      ],
      "text/plain": [
       "-cos(x)"
      ]
     },
     "execution_count": 8,
     "metadata": {},
     "output_type": "execute_result"
    }
   ],
   "source": [
    "Nth_der(f, x, 2)"
   ]
  },
  {
   "cell_type": "code",
   "execution_count": 9,
   "metadata": {},
   "outputs": [
    {
     "data": {
      "text/latex": [
       "$\\displaystyle 1 - \\frac{x^{2}}{2}$"
      ],
      "text/plain": [
       "1 - x**2/2"
      ]
     },
     "execution_count": 9,
     "metadata": {},
     "output_type": "execute_result"
    }
   ],
   "source": [
    "P = Taylor(f, variable=x, a=0, N=2)\n",
    "P"
   ]
  },
  {
   "cell_type": "markdown",
   "metadata": {},
   "source": [
    "## Task 1\n",
    "Find the quadratic approximation $P(x)=A + Bx + Cx^2$ to the function $f(x) = \\cos x$ that satisfies condition (i), (ii), and (iii) with $a=0$. Graph $P, f,$ and the linear approximation $L(x)=1$ on a common screen. Comment on how well the functions $P$ and $L$ approximate $f$. "
   ]
  },
  {
   "cell_type": "markdown",
   "metadata": {},
   "source": [
    "Here, we try to find a polynomial that has the same value as the function $f(x)$, the same derivative and also the same second derivative at some point \"$a$\". \n",
    "\n",
    "\n",
    "Similar to linear approximation our quadratic approximation for $f(x)$ near the point $x = a$ looks like this:"
   ]
  },
  {
   "cell_type": "markdown",
   "metadata": {},
   "source": [
    "$$\n",
    "P(x) = A +Bx + Cx^2\n",
    "$$"
   ]
  },
  {
   "cell_type": "markdown",
   "metadata": {},
   "source": [
    "In order to recover the exact quadratic approximation we can use the nessary consitions and easily find the approximation."
   ]
  },
  {
   "cell_type": "markdown",
   "metadata": {},
   "source": [
    " #### Answer:"
   ]
  },
  {
   "cell_type": "markdown",
   "metadata": {},
   "source": [
    "We have\n",
    "$$\n",
    "\\begin{cases}\n",
    "f(x) = \\cos(x),\\\\\n",
    "P(x) = A + Bx + Cx^2\n",
    "\\end{cases}\n",
    "$$\n"
   ]
  },
  {
   "cell_type": "markdown",
   "metadata": {},
   "source": [
    "Let us compute $P(0)$.   "
   ]
  },
  {
   "cell_type": "code",
   "execution_count": 10,
   "metadata": {},
   "outputs": [
    {
     "data": {
      "text/latex": [
       "$\\displaystyle A + B x + C x^{2}$"
      ],
      "text/plain": [
       "A + B*x + C*x**2"
      ]
     },
     "execution_count": 10,
     "metadata": {},
     "output_type": "execute_result"
    }
   ],
   "source": [
    "x, a, A, B, C = symbols('x a A B C')\n",
    "P = A + B*x + C*x**2\n",
    "P"
   ]
  },
  {
   "cell_type": "code",
   "execution_count": 11,
   "metadata": {},
   "outputs": [
    {
     "data": {
      "text/latex": [
       "$\\displaystyle A$"
      ],
      "text/plain": [
       "A"
      ]
     },
     "execution_count": 11,
     "metadata": {},
     "output_type": "execute_result"
    }
   ],
   "source": [
    "f1 = P.subs(x,0)\n",
    "f1"
   ]
  },
  {
   "cell_type": "markdown",
   "metadata": {},
   "source": [
    "We can find $A, B, C$ using the fact that \n",
    "$$\n",
    "\\begin{cases}\n",
    "f(0) = P(0) \\\\\n",
    "f'(0) = P'(0)\\\\\n",
    "f''(0) = P''(0)\n",
    "\\end{cases}\n",
    "$$"
   ]
  },
  {
   "cell_type": "code",
   "execution_count": 12,
   "metadata": {},
   "outputs": [
    {
     "data": {
      "text/latex": [
       "$\\displaystyle B$"
      ],
      "text/plain": [
       "B"
      ]
     },
     "execution_count": 12,
     "metadata": {},
     "output_type": "execute_result"
    }
   ],
   "source": [
    "f2 = Nth_der(P, variable=x, N=1).subs(x,0)\n",
    "f2"
   ]
  },
  {
   "cell_type": "code",
   "execution_count": 13,
   "metadata": {},
   "outputs": [
    {
     "data": {
      "text/latex": [
       "$\\displaystyle 2 C$"
      ],
      "text/plain": [
       "2*C"
      ]
     },
     "execution_count": 13,
     "metadata": {},
     "output_type": "execute_result"
    }
   ],
   "source": [
    "f3 = Nth_der(P, variable=x, N=2).subs(x,0)\n",
    "f3"
   ]
  },
  {
   "cell_type": "code",
   "execution_count": 14,
   "metadata": {},
   "outputs": [
    {
     "data": {
      "text/plain": [
       "{A: 1, B: 0, C: -1/2}"
      ]
     },
     "execution_count": 14,
     "metadata": {},
     "output_type": "execute_result"
    }
   ],
   "source": [
    "sol = solve((f.subs(x,0)-f1, Nth_der(f, x, 1).subs(x,0)-f2, \\\n",
    "       Nth_der(f,x,2).subs(x,0)-f3), A, B, C)\n",
    "sol"
   ]
  },
  {
   "cell_type": "code",
   "execution_count": 15,
   "metadata": {},
   "outputs": [
    {
     "data": {
      "text/latex": [
       "$\\displaystyle 1$"
      ],
      "text/plain": [
       "1"
      ]
     },
     "execution_count": 15,
     "metadata": {},
     "output_type": "execute_result"
    }
   ],
   "source": [
    "sol[A]"
   ]
  },
  {
   "cell_type": "code",
   "execution_count": 16,
   "metadata": {},
   "outputs": [
    {
     "data": {
      "text/latex": [
       "$\\displaystyle 0$"
      ],
      "text/plain": [
       "0"
      ]
     },
     "execution_count": 16,
     "metadata": {},
     "output_type": "execute_result"
    }
   ],
   "source": [
    "sol[B]"
   ]
  },
  {
   "cell_type": "code",
   "execution_count": 17,
   "metadata": {},
   "outputs": [
    {
     "data": {
      "text/latex": [
       "$\\displaystyle - \\frac{1}{2}$"
      ],
      "text/plain": [
       "-1/2"
      ]
     },
     "execution_count": 17,
     "metadata": {},
     "output_type": "execute_result"
    }
   ],
   "source": [
    "sol[C]"
   ]
  },
  {
   "cell_type": "markdown",
   "metadata": {},
   "source": [
    " Hence, the required quadratic approximating function is: $P(x) = 1 - \\frac{x^2}{2}$"
   ]
  },
  {
   "cell_type": "code",
   "execution_count": 18,
   "metadata": {},
   "outputs": [
    {
     "data": {
      "image/png": "[encoded data removed]",
      "text/plain": [
       "<Figure size 432x288 with 1 Axes>"
      ]
     },
     "metadata": {
      "needs_background": "light"
     },
     "output_type": "display_data"
    }
   ],
   "source": [
    "import numpy as np\n",
    "import matplotlib.pyplot as plt\n",
    "\n",
    "x = np.linspace(-2, 2, endpoint = True)\n",
    "P = lambda x: 1 - (1/2)*(x**2)       \n",
    "L = lambda x: 1 + 0*x          \n",
    "f = lambda x: np.cos(x)           \n",
    "\n",
    "# YOUR CODE HERE\n",
    "plt.plot(x, P(x), label = \"$P(x) = 1 - x^2/2$\")\n",
    "plt.plot(x, L(x), label = \"$L(x) = 1$\")\n",
    "plt.plot(x, f(x), label = \"$f(x) = \\cos x$\", linewidth = 4)\n",
    "plt.xlabel('x')\n",
    "plt.ylabel('y')\n",
    "plt.legend()\n",
    "plt.show()"
   ]
  },
  {
   "cell_type": "markdown",
   "metadata": {},
   "source": [
    " "
   ]
  },
  {
   "cell_type": "markdown",
   "metadata": {},
   "source": [
    "## Task 2\n",
    "Determine the values of $x$ for which the quadratic approximation $f(x) \\approx P(x)$ in Problem 1 is accurate to within $0.1$ [ Hint: Graph $y=P(x),\\; y=\\cos x-0.1,$ and $y=\\cos x+0.1$ on a common screen.]"
   ]
  },
  {
   "cell_type": "markdown",
   "metadata": {},
   "source": [
    " #### Answer:"
   ]
  },
  {
   "cell_type": "code",
   "execution_count": 19,
   "metadata": {},
   "outputs": [
    {
     "data": {
      "image/png": "[encoded data removed]",
      "text/plain": [
       "<Figure size 432x288 with 1 Axes>"
      ]
     },
     "metadata": {
      "needs_background": "light"
     },
     "output_type": "display_data"
    }
   ],
   "source": [
    "import numpy as np\n",
    "import matplotlib.pyplot as plt\n",
    "\n",
    "x = np.linspace(-2, 2, endpoint = True)\n",
    "P = lambda x: 1 - (1/2)*(x**2)         # the approximation\n",
    "y1 = lambda x: np.cos(x)-0.1           # lower bound of the original function\n",
    "y2 = lambda x: np.cos(x)+0.1           # upper bound of the original function\n",
    "\n",
    "# YOUR CODE HERE\n",
    "plt.plot(x, P(x), label = \"$P(x) = 1 - x^2/2$\", linewidth = 4)\n",
    "plt.plot(x, y1(x), label = \"$y1(x) = \\cos(x)-0.1$\")\n",
    "plt.plot(x, y2(x), label = \"$y2(x) = \\cos(x)+0.1$\")\n",
    "\n",
    "plt.xlabel('x')\n",
    "plt.ylabel('y')\n",
    "plt.legend()\n",
    "plt.show()"
   ]
  },
  {
   "cell_type": "code",
   "execution_count": 20,
   "metadata": {},
   "outputs": [
    {
     "name": "stdout",
     "output_type": "stream",
     "text": [
      "[-1.26124243  1.26124243]\n"
     ]
    }
   ],
   "source": [
    "from scipy.optimize import fsolve\n",
    "import numpy as np\n",
    "f = lambda x: np.cos(x)-0.1 - 1 + (1/2)*(x**2)\n",
    "print(fsolve(f, [-2, 2]))"
   ]
  },
  {
   "cell_type": "markdown",
   "metadata": {},
   "source": [
    "Hence, the required values of $x$ for which the quadratic approximation $f(x) \\approx P(x)$ in Problem 1 is accurate to within $0.1$  are $-1.26124243$ and $1.26124243$ ."
   ]
  },
  {
   "cell_type": "markdown",
   "metadata": {},
   "source": [
    " "
   ]
  },
  {
   "cell_type": "markdown",
   "metadata": {},
   "source": [
    "## Task 3\n",
    "To approximate a function $f$ by a quadratic function $P$ near a number $a$, it is best to write $P$ in the form\n",
    "$$\n",
    "P(x) = A + B(x-a)+C(x-a)^2\n",
    "$$ \n",
    "Show that the quadratic function that satisfies condition (i), (ii), and (iii) is \n",
    "$$\n",
    "P(x) = f(a) +f'(a)(x-a) + \\frac{1}{2}f''(a)(x-a)^2\n",
    "$$\n"
   ]
  },
  {
   "cell_type": "markdown",
   "metadata": {},
   "source": [
    "**TYPE YOUR ANSWER HERE**"
   ]
  },
  {
   "cell_type": "markdown",
   "metadata": {},
   "source": [
    "## Task 4\n",
    "\n",
    "Find the quadratic approximation to $f(x) = \\sqrt{x+3}$ near $a=1$. Graph $f$, the quadratic approximation, and the linear approximation on a common screen. What do you conclude? "
   ]
  },
  {
   "cell_type": "markdown",
   "metadata": {},
   "source": [
    "#### Answer:"
   ]
  },
  {
   "cell_type": "markdown",
   "metadata": {},
   "source": [
    "To approximate a function $f(x)$ by a quadratic function $P$ near a number $a = 1$, let $P$ be in the form:\n",
    "$$\n",
    "P(x) = f(a) +f'(a)(x-a) + \\frac{1}{2}f''(a)(x-a)^2\n",
    "= f(1) +f'(1)(x-1) + \\frac{1}{2}f''(a)(x-1)^2\n",
    "$$ "
   ]
  },
  {
   "cell_type": "markdown",
   "metadata": {},
   "source": [
    "We can argue that $P(x) = f(1) +f'(1)(x-1) + \\frac{1}{2}f''(a)(x-1)^2\n",
    "= 2 + \\frac{1}{4}(x-1) - \\frac{1}{64}(x-1)^2$."
   ]
  },
  {
   "cell_type": "code",
   "execution_count": 21,
   "metadata": {},
   "outputs": [
    {
     "data": {
      "text/latex": [
       "$\\displaystyle \\sqrt{x + 3}$"
      ],
      "text/plain": [
       "sqrt(x + 3)"
      ]
     },
     "execution_count": 21,
     "metadata": {},
     "output_type": "execute_result"
    }
   ],
   "source": [
    "import sympy as sp\n",
    "\n",
    "x = symbols('x')\n",
    "f = sp.sqrt(x+3)\n",
    "f"
   ]
  },
  {
   "cell_type": "markdown",
   "metadata": {},
   "source": [
    "The second Taylor polynomial of $f$ about $a=1$ is given the next cell. "
   ]
  },
  {
   "cell_type": "code",
   "execution_count": 22,
   "metadata": {},
   "outputs": [
    {
     "data": {
      "text/latex": [
       "$\\displaystyle \\frac{x}{4} - \\frac{\\left(x - 1\\right)^{2}}{64} + \\frac{7}{4}$"
      ],
      "text/plain": [
       "x/4 - (x - 1)**2/64 + 7/4"
      ]
     },
     "execution_count": 22,
     "metadata": {},
     "output_type": "execute_result"
    }
   ],
   "source": [
    "# YOUR CODE HERE\n",
    "\n",
    "P =  Taylor(f, variable=x, a=1, N=2)\n",
    "P"
   ]
  },
  {
   "cell_type": "code",
   "execution_count": 23,
   "metadata": {},
   "outputs": [
    {
     "data": {
      "text/latex": [
       "$\\displaystyle - \\frac{x^{2}}{64} + \\frac{9 x}{32} + \\frac{111}{64}$"
      ],
      "text/plain": [
       "-x**2/64 + 9*x/32 + 111/64"
      ]
     },
     "execution_count": 23,
     "metadata": {},
     "output_type": "execute_result"
    }
   ],
   "source": [
    "simplify(P)"
   ]
  },
  {
   "cell_type": "markdown",
   "metadata": {},
   "source": [
    "The linear approximation can be found as follows."
   ]
  },
  {
   "cell_type": "code",
   "execution_count": 24,
   "metadata": {},
   "outputs": [
    {
     "data": {
      "text/latex": [
       "$\\displaystyle \\frac{x}{4} + \\frac{7}{4}$"
      ],
      "text/plain": [
       "x/4 + 7/4"
      ]
     },
     "execution_count": 24,
     "metadata": {},
     "output_type": "execute_result"
    }
   ],
   "source": [
    "L = Taylor(f, variable=x, a=1, N=1)\n",
    "L"
   ]
  },
  {
   "cell_type": "code",
   "execution_count": 25,
   "metadata": {},
   "outputs": [
    {
     "data": {
      "image/png": "[encoded data removed]",
      "text/plain": [
       "<Figure size 432x288 with 1 Axes>"
      ]
     },
     "metadata": {
      "needs_background": "light"
     },
     "output_type": "display_data"
    }
   ],
   "source": [
    "import numpy as np\n",
    "import matplotlib.pyplot as plt\n",
    "\n",
    "t = np.linspace(-1, 4, endpoint = True)\n",
    "f = lambda t: np.sqrt(t+3)          \n",
    "P1 = lambda t: t/4 + 7/4\n",
    "P2 = lambda t: -t**2/64 + 9*t/32 + 111/64\n",
    "\n",
    "plt.plot(t, P2(t), label = \"Quadratic approximation \")\n",
    "plt.plot(t, f(t), label = \"$f \", linewidth = 4)\n",
    "plt.plot(t, P1(t), label = \"$Linear approximation \")\n",
    "\n",
    "\n",
    "plt.xlabel('x')\n",
    "plt.ylabel('y')\n",
    "plt.legend()\n",
    "plt.show()"
   ]
  },
  {
   "cell_type": "markdown",
   "metadata": {},
   "source": [
    "#### Conclusion: \n",
    "The taylor polynomial of degree one(Linear approximation); this is just the equation to the tangent line at that point. This polynomial\n",
    "has the property that it matches f in value and slope at the point a. But we would like to do better, namely we would also like to get a better approximation to the function in that we match concavity of f as well at this point. The concavity information is fulfilled by the information in the second derivative. We thus create a quadratic approximating polynomial."
   ]
  },
  {
   "cell_type": "markdown",
   "metadata": {},
   "source": [
    " "
   ]
  },
  {
   "cell_type": "markdown",
   "metadata": {},
   "source": [
    "\n",
    "## Task 5\n",
    "\n",
    "Instead of being satisfied with a linear or quadratic approximation to $f(x)$ near $x=a$, let's try to find better approximations with higher-degree polynomials. We look for an $n$th-degree polynomial \n",
    "$$\n",
    "T_n(x) = c_0 + c_1(x-a) + c_2(x-a)^2+c_3(x-a)^3 +\\ldots +c_n(x-a)^n\n",
    "$$\n",
    "such that $T_n$ and its first $n$ derivatives have the same values at $x=a$ as $f$ and its first $n$ derivatives. By differentiating repeatedly and setting $x=a$, show that these conditions are satisfied if \n",
    "$$\n",
    "c_0 = f(a),\\;\\; c_1 = f'(a), \\;\\; c_2 =\\frac{1}{2}f''(a) \n",
    "$$\n",
    "and in general $c_k = \\dfrac{f^{(k)}(a)}{k!}$, where $k! = 1\\cdot2\\cdot3\\ldots k$. The resulting polynomial \n",
    "$$\n",
    "T_n(x) = f(a) + f'(a)(x-a)+\\dfrac{f''(a)}{2!}(x-a)^2+\\ldots +\\dfrac{f^{(n)}(a)}{n!}(x-a)^n\n",
    "$$\n",
    "is called the $n$th-degree Taylor polynomial of $f$ centered at $a$.}"
   ]
  },
  {
   "cell_type": "markdown",
   "metadata": {},
   "source": [
    "#### Answer:"
   ]
  },
  {
   "cell_type": "markdown",
   "metadata": {},
   "source": [
    "Let $T_n(x) = c_0 + c_1(x-a) + c_2(x-a)^2+c_3(x-a)^3 +\\ldots +c_n(x-a)^n$\n",
    "and $T_n(x) = f(a) + f'(a)(x-a)+\\dfrac{f''(a)}{2!}(x-a)^2+\\ldots +\\dfrac{f^{(n)}(a)}{n!}(x-a)^n$"
   ]
  },
  {
   "cell_type": "markdown",
   "metadata": {},
   "source": [
    "                                                                                                           \n",
    "Let's differentiate $\n",
    "T_n(x) = c_0 + c_1(x-a) + c_2(x-a)^2+c_3(x-a)^3 +\\ldots +c_n(x-a)^n\n",
    "$ to nth derivative.\n",
    "We get,\n",
    "    $C_n$*n!\n",
    "   "
   ]
  },
  {
   "cell_type": "markdown",
   "metadata": {},
   "source": [
    "now, differentiating $\n",
    "T_n(x) = f(a) + f'(a)(x-a)+\\dfrac{f''(a)}{2!}(x-a)^2+\\ldots +\\dfrac{f^{(n)}(a)}{n!}(x-a)^n\n",
    "$ to nth derivative, we get, $f^n(a)$"
   ]
  },
  {
   "cell_type": "markdown",
   "metadata": {},
   "source": [
    "and, we know that $C_nn! = f^{(n)}(a)$"
   ]
  },
  {
   "cell_type": "markdown",
   "metadata": {},
   "source": [
    "Finally we will get the desired result: $c_n = \\dfrac{f^{(n)}(a)}{n!}$, where $n! = 1\\cdot2\\cdot3\\ldots n$."
   ]
  },
  {
   "cell_type": "markdown",
   "metadata": {},
   "source": [
    "## Task 6\n",
    "Find the 8th-degree Taylor polynomial centered at $a=0$ for the function $f(x) = \\cos x$. Graph $f$ together with the Taylor polynomials $T_2, T_4, T_6, T_8$ and comment how well they approximate $f$. "
   ]
  },
  {
   "cell_type": "markdown",
   "metadata": {},
   "source": [
    "#### Answer:"
   ]
  },
  {
   "cell_type": "markdown",
   "metadata": {},
   "source": [
    "Using the function nthTaylorApprox to approximate the 8th-degree Taylor polynomial centered at $a=0$ for the function $f(x) = \\cos x$."
   ]
  },
  {
   "cell_type": "code",
   "execution_count": 26,
   "metadata": {},
   "outputs": [
    {
     "data": {
      "text/latex": [
       "$\\displaystyle \\cos{\\left(x \\right)}$"
      ],
      "text/plain": [
       "cos(x)"
      ]
     },
     "execution_count": 26,
     "metadata": {},
     "output_type": "execute_result"
    }
   ],
   "source": [
    "f = cos(x)\n",
    "f"
   ]
  },
  {
   "cell_type": "code",
   "execution_count": 27,
   "metadata": {},
   "outputs": [
    {
     "data": {
      "text/latex": [
       "$\\displaystyle 1 - \\frac{x^{2}}{2}$"
      ],
      "text/plain": [
       "1 - x**2/2"
      ]
     },
     "execution_count": 27,
     "metadata": {},
     "output_type": "execute_result"
    }
   ],
   "source": [
    "T_2 = Taylor(f, variable=x, a=0, N=2)\n",
    "T_2"
   ]
  },
  {
   "cell_type": "code",
   "execution_count": 28,
   "metadata": {},
   "outputs": [
    {
     "data": {
      "text/latex": [
       "$\\displaystyle \\frac{x^{4}}{24} - \\frac{x^{2}}{2} + 1$"
      ],
      "text/plain": [
       "x**4/24 - x**2/2 + 1"
      ]
     },
     "execution_count": 28,
     "metadata": {},
     "output_type": "execute_result"
    }
   ],
   "source": [
    "T_4 = Taylor(f, variable=x, a=0, N=4)\n",
    "T_4"
   ]
  },
  {
   "cell_type": "code",
   "execution_count": 29,
   "metadata": {},
   "outputs": [
    {
     "data": {
      "text/latex": [
       "$\\displaystyle - \\frac{x^{6}}{720} + \\frac{x^{4}}{24} - \\frac{x^{2}}{2} + 1$"
      ],
      "text/plain": [
       "-x**6/720 + x**4/24 - x**2/2 + 1"
      ]
     },
     "execution_count": 29,
     "metadata": {},
     "output_type": "execute_result"
    }
   ],
   "source": [
    "T_6 = Taylor(f, variable=x, a=0, N=6)\n",
    "T_6"
   ]
  },
  {
   "cell_type": "code",
   "execution_count": 30,
   "metadata": {},
   "outputs": [
    {
     "data": {
      "text/latex": [
       "$\\displaystyle \\frac{x^{8}}{40320} - \\frac{x^{6}}{720} + \\frac{x^{4}}{24} - \\frac{x^{2}}{2} + 1$"
      ],
      "text/plain": [
       "x**8/40320 - x**6/720 + x**4/24 - x**2/2 + 1"
      ]
     },
     "execution_count": 30,
     "metadata": {},
     "output_type": "execute_result"
    }
   ],
   "source": [
    "T_8 = Taylor(f, variable=x, a=0, N=8)\n",
    "T_8"
   ]
  },
  {
   "cell_type": "code",
   "execution_count": 31,
   "metadata": {},
   "outputs": [
    {
     "data": {
      "image/png": "[encoded data removed]",
      "text/plain": [
       "<Figure size 432x288 with 1 Axes>"
      ]
     },
     "metadata": {
      "needs_background": "light"
     },
     "output_type": "display_data"
    }
   ],
   "source": [
    "import numpy as np\n",
    "import matplotlib.pyplot as plt\n",
    "\n",
    "t = np.linspace(-1.4, 1.4, endpoint = True)\n",
    "F = np.vectorize(lambda t: f.subs(x,t))\n",
    "T2 = np.vectorize(lambda t: T_2.subs(x,t))\n",
    "T4 = np.vectorize(lambda t: T_4.subs(x,t))\n",
    "T6 = np.vectorize(lambda t: T_6.subs(x,t))\n",
    "T8 = np.vectorize(lambda t: T_8.subs(x,t))\n",
    "\n",
    "plt.plot(t, F(t), label = \"$f(x) = \\cos(x)$\", linewidth=4)\n",
    "plt.plot(t, T8(t), label = \"$T_8(x)$ \")\n",
    "plt.plot(t, T6(t), label = \"$T_6(x)$ \")\n",
    "plt.plot(t, T4(t), label = \"$T_4(x)$ \")\n",
    "plt.plot(t, T2(t), label = \"$T_2(x)$ \")\n",
    "\n",
    "plt.xlabel('x')\n",
    "plt.ylabel('y')\n",
    "plt.legend()\n",
    "plt.show()"
   ]
  },
  {
   "cell_type": "code",
   "execution_count": 32,
   "metadata": {},
   "outputs": [],
   "source": [
    "import matplotlib.pyplot as plt\n",
    "import numpy as np\n",
    "\n",
    "def graph_Taylor(f, a, xmin, xmax, ymin, ymax, Nmax):\n",
    "    t = np.linspace(xmin, xmax)\n",
    "    F = np.vectorize(lambda t: f.subs(x,t))\n",
    "    P = np.vectorize(lambda t: Taylor(f, x ,a ,N).subs(x,t))\n",
    "    plt.plot(t, F(t), label = \"$y=f(x)$\", linewidth=4)\n",
    "    for N in range (1, Nmax):\n",
    "        plt.plot(t, P(t))\n",
    "        plt.ylim(ymin, ymax)\n",
    "    plt.xlabel('x')\n",
    "    plt.ylabel('y')\n",
    "    plt.legend()\n",
    "    plt.grid(True)\n",
    "    plt.show()"
   ]
  },
  {
   "cell_type": "code",
   "execution_count": 33,
   "metadata": {},
   "outputs": [
    {
     "data": {
      "image/png": "[encoded data removed]",
      "text/plain": [
       "<Figure size 432x288 with 1 Axes>"
      ]
     },
     "metadata": {
      "needs_background": "light"
     },
     "output_type": "display_data"
    }
   ],
   "source": [
    "f = cos(x)\n",
    "graph_Taylor(f, a=0, xmin=-4, xmax=4, ymin=-2, ymax=2, Nmax= 8)"
   ]
  }
 ],
 "metadata": {
  "kernelspec": {
   "display_name": "Python 3",
   "language": "python",
   "name": "python3"
  },
  "language_info": {
   "codemirror_mode": {
    "name": "ipython",
    "version": 3
   },
   "file_extension": ".py",
   "mimetype": "text/x-python",
   "name": "python",
   "nbconvert_exporter": "python",
   "pygments_lexer": "ipython3",
   "version": "3.8.3"
  }
 },
 "nbformat": 4,
 "nbformat_minor": 4
}
